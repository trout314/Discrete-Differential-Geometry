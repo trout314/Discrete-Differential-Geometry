{
 "cells": [
  {
   "cell_type": "code",
   "execution_count": 1,
   "id": "ee5f6896-fa1f-433e-a53d-9b0a910401bd",
   "metadata": {},
   "outputs": [],
   "source": [
    "import numpy as np\n",
    "import matplotlib.pyplot as plt\n",
    "import networkx as nx"
   ]
  },
  {
   "cell_type": "code",
   "execution_count": 3,
   "id": "69090a18-0563-4d61-97ab-dafa68735353",
   "metadata": {},
   "outputs": [],
   "source": [
    "edge_graph = nx.read_adjlist(\"../../Data/S3_V500_sample_4.edge_graph\")"
   ]
  },
  {
   "cell_type": "code",
   "execution_count": 8,
   "id": "827422a9-ea73-47aa-8f83-04fed2aeb953",
   "metadata": {},
   "outputs": [
    {
     "data": {
      "text/plain": [
       "DegreeView({'0': 13, '1': 11, '7': 15, '15': 13, '38': 13, '42': 14, '44': 14, '49': 13, '53': 14, '60': 12, '62': 15, '63': 11, '89': 12, '93': 12, '18': 13, '19': 13, '40': 14, '45': 13, '2': 12, '5': 13, '8': 12, '21': 14, '25': 13, '27': 14, '31': 16, '36': 14, '39': 13, '52': 15, '54': 13, '65': 14, '90': 13, '3': 14, '4': 15, '10': 11, '11': 17, '20': 14, '32': 16, '34': 13, '66': 13, '70': 13, '75': 14, '76': 13, '77': 15, '81': 13, '14': 14, '22': 14, '43': 13, '51': 14, '59': 11, '9': 14, '12': 13, '33': 13, '56': 13, '64': 14, '80': 15, '6': 15, '30': 14, '37': 13, '41': 15, '50': 12, '61': 13, '67': 12, '68': 13, '71': 12, '74': 14, '13': 12, '26': 13, '87': 14, '55': 14, '79': 10, '82': 13, '84': 14, '16': 13, '48': 15, '17': 14, '28': 16, '58': 15, '46': 12, '47': 12, '23': 12, '72': 14, '35': 13, '94': 12, '91': 12, '24': 11, '29': 11, '69': 11, '85': 11, '86': 11, '88': 11, '57': 9, '95': 10})"
      ]
     },
     "execution_count": 8,
     "metadata": {},
     "output_type": "execute_result"
    }
   ],
   "source": [
    "nx.degree(edge_graph)"
   ]
  },
  {
   "cell_type": "code",
   "execution_count": 10,
   "id": "404bde93-a379-4e28-a3c1-52e572c39d7c",
   "metadata": {},
   "outputs": [
    {
     "ename": "AttributeError",
     "evalue": "'Graph' object has no attribute 'vertices'",
     "output_type": "error",
     "traceback": [
      "\u001b[0;31m---------------------------------------------------------------------------\u001b[0m",
      "\u001b[0;31mAttributeError\u001b[0m                            Traceback (most recent call last)",
      "Cell \u001b[0;32mIn[10], line 1\u001b[0m\n\u001b[0;32m----> 1\u001b[0m \u001b[43medge_graph\u001b[49m\u001b[38;5;241;43m.\u001b[39;49m\u001b[43mvertices\u001b[49m()\n",
      "\u001b[0;31mAttributeError\u001b[0m: 'Graph' object has no attribute 'vertices'"
     ]
    }
   ],
   "source": [
    "edge_graph.vertices()"
   ]
  },
  {
   "cell_type": "code",
   "execution_count": null,
   "id": "4da60d14-ffd1-4620-b2cf-678181ae136d",
   "metadata": {},
   "outputs": [],
   "source": []
  }
 ],
 "metadata": {
  "kernelspec": {
   "display_name": "Python 3 (ipykernel)",
   "language": "python",
   "name": "python3"
  },
  "language_info": {
   "codemirror_mode": {
    "name": "ipython",
    "version": 3
   },
   "file_extension": ".py",
   "mimetype": "text/x-python",
   "name": "python",
   "nbconvert_exporter": "python",
   "pygments_lexer": "ipython3",
   "version": "3.10.6"
  }
 },
 "nbformat": 4,
 "nbformat_minor": 5
}
