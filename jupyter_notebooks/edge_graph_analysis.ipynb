{
 "cells": [
  {
   "cell_type": "code",
   "execution_count": 1,
   "id": "ee5f6896-fa1f-433e-a53d-9b0a910401bd",
   "metadata": {},
   "outputs": [],
   "source": [
    "import numpy as np\n",
    "import matplotlib.pyplot as plt\n",
    "import networkx as nx"
   ]
  },
  {
   "cell_type": "code",
   "execution_count": 79,
   "id": "69090a18-0563-4d61-97ab-dafa68735353",
   "metadata": {},
   "outputs": [],
   "source": [
    "edge_graph = nx.read_adjlist(\"../../Data/S3_V500_sample_9.edge_graph\")"
   ]
  },
  {
   "cell_type": "code",
   "execution_count": 80,
   "id": "827422a9-ea73-47aa-8f83-04fed2aeb953",
   "metadata": {},
   "outputs": [
    {
     "data": {
      "text/plain": [
       "692"
      ]
     },
     "execution_count": 80,
     "metadata": {},
     "output_type": "execute_result"
    }
   ],
   "source": [
    "len(edge_graph.nodes)"
   ]
  },
  {
   "cell_type": "code",
   "execution_count": 81,
   "id": "404bde93-a379-4e28-a3c1-52e572c39d7c",
   "metadata": {},
   "outputs": [
    {
     "data": {
      "text/plain": [
       "14"
      ]
     },
     "execution_count": 81,
     "metadata": {},
     "output_type": "execute_result"
    }
   ],
   "source": [
    "nx.diameter(edge_graph)"
   ]
  },
  {
   "cell_type": "code",
   "execution_count": 82,
   "id": "85f25b15-6ad4-4584-a9ee-d7e2c203c2fe",
   "metadata": {},
   "outputs": [
    {
     "data": {
      "text/plain": [
       "7"
      ]
     },
     "execution_count": 82,
     "metadata": {},
     "output_type": "execute_result"
    }
   ],
   "source": [
    "nx.radius(edge_graph)"
   ]
  },
  {
   "cell_type": "code",
   "execution_count": 83,
   "id": "1b0dc435-cefe-4fc6-bde7-ee260a5d6d92",
   "metadata": {},
   "outputs": [
    {
     "data": {
      "text/plain": [
       "['36', '77']"
      ]
     },
     "execution_count": 83,
     "metadata": {},
     "output_type": "execute_result"
    }
   ],
   "source": [
    "nx.center(edge_graph)"
   ]
  },
  {
   "cell_type": "code",
   "execution_count": 84,
   "id": "8d630682-a5b0-4cb1-b423-f46f1c67f5b9",
   "metadata": {},
   "outputs": [
    {
     "data": {
      "text/plain": [
       "['781',\n",
       " '792',\n",
       " '43',\n",
       " '399',\n",
       " '420',\n",
       " '828',\n",
       " '380',\n",
       " '538',\n",
       " '208',\n",
       " '552',\n",
       " '569',\n",
       " '209',\n",
       " '381',\n",
       " '591',\n",
       " '722',\n",
       " '119',\n",
       " '211',\n",
       " '491']"
      ]
     },
     "execution_count": 84,
     "metadata": {},
     "output_type": "execute_result"
    }
   ],
   "source": [
    "nx.periphery(edge_graph)"
   ]
  },
  {
   "cell_type": "code",
   "execution_count": null,
   "id": "93566b1a-30fb-4c24-92f5-0e535a179116",
   "metadata": {},
   "outputs": [],
   "source": []
  }
 ],
 "metadata": {
  "kernelspec": {
   "display_name": "Python 3 (ipykernel)",
   "language": "python",
   "name": "python3"
  },
  "language_info": {
   "codemirror_mode": {
    "name": "ipython",
    "version": 3
   },
   "file_extension": ".py",
   "mimetype": "text/x-python",
   "name": "python",
   "nbconvert_exporter": "python",
   "pygments_lexer": "ipython3",
   "version": "3.10.6"
  }
 },
 "nbformat": 4,
 "nbformat_minor": 5
}
