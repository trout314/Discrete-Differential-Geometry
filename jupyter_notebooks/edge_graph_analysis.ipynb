{
 "cells": [
  {
   "cell_type": "code",
   "execution_count": 61,
   "id": "ee5f6896-fa1f-433e-a53d-9b0a910401bd",
   "metadata": {},
   "outputs": [],
   "source": [
    "import numpy as np\n",
    "import matplotlib.pyplot as plt\n",
    "import networkx as nx"
   ]
  },
  {
   "cell_type": "code",
   "execution_count": 118,
   "id": "69090a18-0563-4d61-97ab-dafa68735353",
   "metadata": {},
   "outputs": [],
   "source": [
    "edge_graph = nx.read_edgelist(\"../test_sample_0.edge_graph\")\n",
    "edge_graph = nx.relabel_nodes(edge_graph, lambda x: int(x));"
   ]
  },
  {
   "cell_type": "code",
   "execution_count": 119,
   "id": "56cef144-c3f2-4905-bb9f-3e8f6c1bc4f9",
   "metadata": {},
   "outputs": [
    {
     "data": {
      "text/plain": [
       "181"
      ]
     },
     "execution_count": 119,
     "metadata": {},
     "output_type": "execute_result"
    }
   ],
   "source": [
    "len(edge_graph.nodes)"
   ]
  },
  {
   "cell_type": "code",
   "execution_count": 120,
   "id": "85f25b15-6ad4-4584-a9ee-d7e2c203c2fe",
   "metadata": {},
   "outputs": [
    {
     "data": {
      "text/plain": [
       "7"
      ]
     },
     "execution_count": 120,
     "metadata": {},
     "output_type": "execute_result"
    }
   ],
   "source": [
    "nx.radius(edge_graph)"
   ]
  },
  {
   "cell_type": "code",
   "execution_count": 121,
   "id": "1b0dc435-cefe-4fc6-bde7-ee260a5d6d92",
   "metadata": {},
   "outputs": [
    {
     "data": {
      "text/plain": [
       "13"
      ]
     },
     "execution_count": 121,
     "metadata": {},
     "output_type": "execute_result"
    }
   ],
   "source": [
    "nx.diameter(edge_graph)"
   ]
  },
  {
   "cell_type": "code",
   "execution_count": 122,
   "id": "a433bf57-a8dc-4430-a828-fda87ae59ed1",
   "metadata": {},
   "outputs": [],
   "source": [
    "dist = dict(nx.all_pairs_dijkstra_path_length(edge_graph))"
   ]
  },
  {
   "cell_type": "code",
   "execution_count": 132,
   "id": "a577abc1-627d-4fbb-98b6-be64ba018aaf",
   "metadata": {},
   "outputs": [
    {
     "data": {
      "text/plain": [
       "10"
      ]
     },
     "execution_count": 132,
     "metadata": {},
     "output_type": "execute_result"
    }
   ],
   "source": [
    "nx.eccentricity(edge_graph, 0)"
   ]
  },
  {
   "cell_type": "code",
   "execution_count": 133,
   "id": "8c80aed2-9f98-450e-878b-3eeeb5b1344d",
   "metadata": {},
   "outputs": [
    {
     "data": {
      "text/plain": [
       "6"
      ]
     },
     "execution_count": 133,
     "metadata": {},
     "output_type": "execute_result"
    }
   ],
   "source": [
    "dist[1][3]"
   ]
  },
  {
   "cell_type": "code",
   "execution_count": null,
   "id": "b084e784-37f2-45f4-98b2-d773485206ff",
   "metadata": {},
   "outputs": [],
   "source": []
  }
 ],
 "metadata": {
  "kernelspec": {
   "display_name": "Python 3 (ipykernel)",
   "language": "python",
   "name": "python3"
  },
  "language_info": {
   "codemirror_mode": {
    "name": "ipython",
    "version": 3
   },
   "file_extension": ".py",
   "mimetype": "text/x-python",
   "name": "python",
   "nbconvert_exporter": "python",
   "pygments_lexer": "ipython3",
   "version": "3.10.6"
  }
 },
 "nbformat": 4,
 "nbformat_minor": 5
}
